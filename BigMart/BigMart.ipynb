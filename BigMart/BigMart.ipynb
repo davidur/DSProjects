{
 "cells": [
  {
   "cell_type": "code",
   "execution_count": 68,
   "metadata": {},
   "outputs": [],
   "source": [
    "import pandas as pd\n",
    "import seaborn as sns\n",
    "from sklearn.model_selection import train_test_split"
   ]
  },
  {
   "cell_type": "code",
   "execution_count": 171,
   "metadata": {},
   "outputs": [],
   "source": [
    "data = pd.read_csv('C:/Users/dus79/Desktop/Tech/DataScience/Projects/More projects/BigMartSales/Train_data.csv')\n",
    "df1 = data.copy()"
   ]
  },
  {
   "cell_type": "code",
   "execution_count": 1,
   "metadata": {
    "scrolled": true
   },
   "outputs": [],
   "source": [
    "df1"
   ]
  },
  {
   "cell_type": "code",
   "execution_count": 2,
   "metadata": {},
   "outputs": [],
   "source": [
    "df1.Item_Type.value_counts()"
   ]
  },
  {
   "cell_type": "code",
   "execution_count": 185,
   "metadata": {},
   "outputs": [],
   "source": [
    "df2meanweight = df2['Item_Weight'].mean()"
   ]
  },
  {
   "cell_type": "code",
   "execution_count": 174,
   "metadata": {},
   "outputs": [],
   "source": [
    "df2 = df1.drop(columns=['Item_Identifier'])\n",
    "df2['Item_Weight'] = df2['Item_Weight'].fillna(df2['Item_Weight'].mean())\n",
    "df2['Item_Fat_Content'] = df2['Item_Fat_Content'].map({'LF': 'Low Fat', 'reg': 'Regular', 'low fat': 'Low Fat', 'Low Fat': 'Low Fat', 'Regular': 'Regular'})\n",
    "df2 = pd.get_dummies(df2, columns=['Item_Type', 'Outlet_Identifier', 'Outlet_Location_Type', 'Outlet_Type', 'Item_Fat_Content'])\n",
    "df2['Outlet_Size'] = df2['Outlet_Size'].map({'Small': 1, 'Medium': 2, 'High': 3})\n",
    "df2['Outlet_Size'] = df2['Outlet_Size'].fillna(method='ffill')"
   ]
  },
  {
   "cell_type": "code",
   "execution_count": 175,
   "metadata": {},
   "outputs": [],
   "source": [
    "for col in df2.columns:\n",
    "    #print(col + ' ' + str(df2[col].dtype))\n",
    "    df2[col] = df2[col].astype('float64')\n",
    "df2_train = df2.drop(columns=['Item_Outlet_Sales'])\n",
    "df2_test = df2['Item_Outlet_Sales']"
   ]
  },
  {
   "cell_type": "code",
   "execution_count": 176,
   "metadata": {},
   "outputs": [],
   "source": [
    "X_train, X_test, y_train, y_test = train_test_split(df2_train, df2_test, test_size=0.2,random_state=2)\n",
    "#from sklearn.preprocessing import Imputer\n",
    "#imp = Imputer(missing_values=\"NaN\", strategy=\"mean\")\n",
    "#X_train = imp.fit_transform(X_train)\n",
    "#X_test = imp.transform(X_test)"
   ]
  },
  {
   "cell_type": "code",
   "execution_count": 177,
   "metadata": {
    "collapsed": true
   },
   "outputs": [
    {
     "data": {
      "text/plain": [
       "XGBRegressor(base_score=0.5, booster='gbtree', colsample_bylevel=1,\n",
       "       colsample_bytree=1, gamma=0, learning_rate=0.1, max_delta_step=0,\n",
       "       max_depth=3, min_child_weight=1, missing=None, n_estimators=100,\n",
       "       n_jobs=1, nthread=None, objective='reg:linear', random_state=0,\n",
       "       reg_alpha=0, reg_lambda=1, scale_pos_weight=1, seed=None,\n",
       "       silent=True, subsample=1)"
      ]
     },
     "execution_count": 177,
     "metadata": {},
     "output_type": "execute_result"
    }
   ],
   "source": [
    "from xgboost import XGBRegressor\n",
    "my_model = XGBRegressor()\n",
    "my_model.fit(X_train, y_train)"
   ]
  },
  {
   "cell_type": "code",
   "execution_count": 178,
   "metadata": {},
   "outputs": [],
   "source": [
    "y_pred = my_model.predict(X_test)"
   ]
  },
  {
   "cell_type": "code",
   "execution_count": 179,
   "metadata": {
    "collapsed": true
   },
   "outputs": [
    {
     "data": {
      "text/plain": [
       "788.5107036883522"
      ]
     },
     "execution_count": 179,
     "metadata": {},
     "output_type": "execute_result"
    }
   ],
   "source": [
    "from sklearn.metrics import mean_absolute_error\n",
    "mean_absolute_error(y_test, y_pred)"
   ]
  },
  {
   "cell_type": "code",
   "execution_count": 213,
   "metadata": {},
   "outputs": [],
   "source": [
    "data2 = pd.read_csv('C:/Users/dus79/Desktop/Tech/DataScience/Projects/More projects/BigMartSales/Test_data.csv')\n",
    "df3 = data2.copy()\n",
    "df3 = df3.drop(columns=['Item_Identifier'])\n",
    "df3['Item_Weight'] = df3['Item_Weight'].fillna(df2meanweight)\n",
    "df3['Item_Fat_Content'] = df3['Item_Fat_Content'].map({'LF': 'Low Fat', 'reg': 'Regular', 'low fat': 'Low Fat', 'Low Fat': 'Low Fat', 'Regular': 'Regular'})\n",
    "df3 = pd.get_dummies(df3, columns=['Item_Type', 'Outlet_Identifier', 'Outlet_Location_Type', 'Outlet_Type', 'Item_Fat_Content'])\n",
    "df3['Outlet_Size'] = df3['Outlet_Size'].map({'Small': 1, 'Medium': 2, 'High': 3})\n",
    "df3['Outlet_Size'] = df3['Outlet_Size'].fillna(method='ffill')"
   ]
  },
  {
   "cell_type": "code",
   "execution_count": 214,
   "metadata": {
    "collapsed": true
   },
   "outputs": [
    {
     "data": {
      "text/html": [
       "<div>\n",
       "<style scoped>\n",
       "    .dataframe tbody tr th:only-of-type {\n",
       "        vertical-align: middle;\n",
       "    }\n",
       "\n",
       "    .dataframe tbody tr th {\n",
       "        vertical-align: top;\n",
       "    }\n",
       "\n",
       "    .dataframe thead th {\n",
       "        text-align: right;\n",
       "    }\n",
       "</style>\n",
       "<table border=\"1\" class=\"dataframe\">\n",
       "  <thead>\n",
       "    <tr style=\"text-align: right;\">\n",
       "      <th></th>\n",
       "      <th>Item_Weight</th>\n",
       "      <th>Item_Visibility</th>\n",
       "      <th>Item_MRP</th>\n",
       "      <th>Outlet_Establishment_Year</th>\n",
       "      <th>Outlet_Size</th>\n",
       "      <th>Item_Type_Baking Goods</th>\n",
       "      <th>Item_Type_Breads</th>\n",
       "      <th>Item_Type_Breakfast</th>\n",
       "      <th>Item_Type_Canned</th>\n",
       "      <th>Item_Type_Dairy</th>\n",
       "      <th>...</th>\n",
       "      <th>Outlet_Identifier_OUT049</th>\n",
       "      <th>Outlet_Location_Type_Tier 1</th>\n",
       "      <th>Outlet_Location_Type_Tier 2</th>\n",
       "      <th>Outlet_Location_Type_Tier 3</th>\n",
       "      <th>Outlet_Type_Grocery Store</th>\n",
       "      <th>Outlet_Type_Supermarket Type1</th>\n",
       "      <th>Outlet_Type_Supermarket Type2</th>\n",
       "      <th>Outlet_Type_Supermarket Type3</th>\n",
       "      <th>Item_Fat_Content_Low Fat</th>\n",
       "      <th>Item_Fat_Content_Regular</th>\n",
       "    </tr>\n",
       "  </thead>\n",
       "  <tbody>\n",
       "    <tr>\n",
       "      <th>count</th>\n",
       "      <td>5681.000000</td>\n",
       "      <td>5681.000000</td>\n",
       "      <td>5681.000000</td>\n",
       "      <td>5681.000000</td>\n",
       "      <td>5681.000000</td>\n",
       "      <td>5681.000000</td>\n",
       "      <td>5681.000000</td>\n",
       "      <td>5681.000000</td>\n",
       "      <td>5681.000000</td>\n",
       "      <td>5681.000000</td>\n",
       "      <td>...</td>\n",
       "      <td>5681.000000</td>\n",
       "      <td>5681.000000</td>\n",
       "      <td>5681.000000</td>\n",
       "      <td>5681.000000</td>\n",
       "      <td>5681.000000</td>\n",
       "      <td>5681.000000</td>\n",
       "      <td>5681.000000</td>\n",
       "      <td>5681.000000</td>\n",
       "      <td>5681.000000</td>\n",
       "      <td>5681.000000</td>\n",
       "    </tr>\n",
       "    <tr>\n",
       "      <th>mean</th>\n",
       "      <td>12.723467</td>\n",
       "      <td>0.065684</td>\n",
       "      <td>141.023273</td>\n",
       "      <td>1997.828903</td>\n",
       "      <td>1.770815</td>\n",
       "      <td>0.077099</td>\n",
       "      <td>0.029044</td>\n",
       "      <td>0.013378</td>\n",
       "      <td>0.076571</td>\n",
       "      <td>0.079916</td>\n",
       "      <td>...</td>\n",
       "      <td>0.109136</td>\n",
       "      <td>0.280232</td>\n",
       "      <td>0.326703</td>\n",
       "      <td>0.393065</td>\n",
       "      <td>0.127090</td>\n",
       "      <td>0.654286</td>\n",
       "      <td>0.108784</td>\n",
       "      <td>0.109840</td>\n",
       "      <td>0.645661</td>\n",
       "      <td>0.354339</td>\n",
       "    </tr>\n",
       "    <tr>\n",
       "      <th>std</th>\n",
       "      <td>4.245629</td>\n",
       "      <td>0.051252</td>\n",
       "      <td>61.809091</td>\n",
       "      <td>8.372256</td>\n",
       "      <td>0.696773</td>\n",
       "      <td>0.266772</td>\n",
       "      <td>0.167945</td>\n",
       "      <td>0.114897</td>\n",
       "      <td>0.265933</td>\n",
       "      <td>0.271186</td>\n",
       "      <td>...</td>\n",
       "      <td>0.311837</td>\n",
       "      <td>0.449152</td>\n",
       "      <td>0.469049</td>\n",
       "      <td>0.488474</td>\n",
       "      <td>0.333103</td>\n",
       "      <td>0.475642</td>\n",
       "      <td>0.311395</td>\n",
       "      <td>0.312718</td>\n",
       "      <td>0.478355</td>\n",
       "      <td>0.478355</td>\n",
       "    </tr>\n",
       "    <tr>\n",
       "      <th>min</th>\n",
       "      <td>4.555000</td>\n",
       "      <td>0.000000</td>\n",
       "      <td>31.990000</td>\n",
       "      <td>1985.000000</td>\n",
       "      <td>1.000000</td>\n",
       "      <td>0.000000</td>\n",
       "      <td>0.000000</td>\n",
       "      <td>0.000000</td>\n",
       "      <td>0.000000</td>\n",
       "      <td>0.000000</td>\n",
       "      <td>...</td>\n",
       "      <td>0.000000</td>\n",
       "      <td>0.000000</td>\n",
       "      <td>0.000000</td>\n",
       "      <td>0.000000</td>\n",
       "      <td>0.000000</td>\n",
       "      <td>0.000000</td>\n",
       "      <td>0.000000</td>\n",
       "      <td>0.000000</td>\n",
       "      <td>0.000000</td>\n",
       "      <td>0.000000</td>\n",
       "    </tr>\n",
       "    <tr>\n",
       "      <th>25%</th>\n",
       "      <td>9.195000</td>\n",
       "      <td>0.027047</td>\n",
       "      <td>94.412000</td>\n",
       "      <td>1987.000000</td>\n",
       "      <td>1.000000</td>\n",
       "      <td>0.000000</td>\n",
       "      <td>0.000000</td>\n",
       "      <td>0.000000</td>\n",
       "      <td>0.000000</td>\n",
       "      <td>0.000000</td>\n",
       "      <td>...</td>\n",
       "      <td>0.000000</td>\n",
       "      <td>0.000000</td>\n",
       "      <td>0.000000</td>\n",
       "      <td>0.000000</td>\n",
       "      <td>0.000000</td>\n",
       "      <td>0.000000</td>\n",
       "      <td>0.000000</td>\n",
       "      <td>0.000000</td>\n",
       "      <td>0.000000</td>\n",
       "      <td>0.000000</td>\n",
       "    </tr>\n",
       "    <tr>\n",
       "      <th>50%</th>\n",
       "      <td>12.857645</td>\n",
       "      <td>0.054154</td>\n",
       "      <td>141.415400</td>\n",
       "      <td>1999.000000</td>\n",
       "      <td>2.000000</td>\n",
       "      <td>0.000000</td>\n",
       "      <td>0.000000</td>\n",
       "      <td>0.000000</td>\n",
       "      <td>0.000000</td>\n",
       "      <td>0.000000</td>\n",
       "      <td>...</td>\n",
       "      <td>0.000000</td>\n",
       "      <td>0.000000</td>\n",
       "      <td>0.000000</td>\n",
       "      <td>0.000000</td>\n",
       "      <td>0.000000</td>\n",
       "      <td>1.000000</td>\n",
       "      <td>0.000000</td>\n",
       "      <td>0.000000</td>\n",
       "      <td>1.000000</td>\n",
       "      <td>0.000000</td>\n",
       "    </tr>\n",
       "    <tr>\n",
       "      <th>75%</th>\n",
       "      <td>15.850000</td>\n",
       "      <td>0.093463</td>\n",
       "      <td>186.026600</td>\n",
       "      <td>2004.000000</td>\n",
       "      <td>2.000000</td>\n",
       "      <td>0.000000</td>\n",
       "      <td>0.000000</td>\n",
       "      <td>0.000000</td>\n",
       "      <td>0.000000</td>\n",
       "      <td>0.000000</td>\n",
       "      <td>...</td>\n",
       "      <td>0.000000</td>\n",
       "      <td>1.000000</td>\n",
       "      <td>1.000000</td>\n",
       "      <td>1.000000</td>\n",
       "      <td>0.000000</td>\n",
       "      <td>1.000000</td>\n",
       "      <td>0.000000</td>\n",
       "      <td>0.000000</td>\n",
       "      <td>1.000000</td>\n",
       "      <td>1.000000</td>\n",
       "    </tr>\n",
       "    <tr>\n",
       "      <th>max</th>\n",
       "      <td>21.350000</td>\n",
       "      <td>0.323637</td>\n",
       "      <td>266.588400</td>\n",
       "      <td>2009.000000</td>\n",
       "      <td>3.000000</td>\n",
       "      <td>1.000000</td>\n",
       "      <td>1.000000</td>\n",
       "      <td>1.000000</td>\n",
       "      <td>1.000000</td>\n",
       "      <td>1.000000</td>\n",
       "      <td>...</td>\n",
       "      <td>1.000000</td>\n",
       "      <td>1.000000</td>\n",
       "      <td>1.000000</td>\n",
       "      <td>1.000000</td>\n",
       "      <td>1.000000</td>\n",
       "      <td>1.000000</td>\n",
       "      <td>1.000000</td>\n",
       "      <td>1.000000</td>\n",
       "      <td>1.000000</td>\n",
       "      <td>1.000000</td>\n",
       "    </tr>\n",
       "  </tbody>\n",
       "</table>\n",
       "<p>8 rows × 40 columns</p>\n",
       "</div>"
      ],
      "text/plain": [
       "       Item_Weight  Item_Visibility     Item_MRP  Outlet_Establishment_Year  \\\n",
       "count  5681.000000      5681.000000  5681.000000                5681.000000   \n",
       "mean     12.723467         0.065684   141.023273                1997.828903   \n",
       "std       4.245629         0.051252    61.809091                   8.372256   \n",
       "min       4.555000         0.000000    31.990000                1985.000000   \n",
       "25%       9.195000         0.027047    94.412000                1987.000000   \n",
       "50%      12.857645         0.054154   141.415400                1999.000000   \n",
       "75%      15.850000         0.093463   186.026600                2004.000000   \n",
       "max      21.350000         0.323637   266.588400                2009.000000   \n",
       "\n",
       "       Outlet_Size  Item_Type_Baking Goods  Item_Type_Breads  \\\n",
       "count  5681.000000             5681.000000       5681.000000   \n",
       "mean      1.770815                0.077099          0.029044   \n",
       "std       0.696773                0.266772          0.167945   \n",
       "min       1.000000                0.000000          0.000000   \n",
       "25%       1.000000                0.000000          0.000000   \n",
       "50%       2.000000                0.000000          0.000000   \n",
       "75%       2.000000                0.000000          0.000000   \n",
       "max       3.000000                1.000000          1.000000   \n",
       "\n",
       "       Item_Type_Breakfast  Item_Type_Canned  Item_Type_Dairy  \\\n",
       "count          5681.000000       5681.000000      5681.000000   \n",
       "mean              0.013378          0.076571         0.079916   \n",
       "std               0.114897          0.265933         0.271186   \n",
       "min               0.000000          0.000000         0.000000   \n",
       "25%               0.000000          0.000000         0.000000   \n",
       "50%               0.000000          0.000000         0.000000   \n",
       "75%               0.000000          0.000000         0.000000   \n",
       "max               1.000000          1.000000         1.000000   \n",
       "\n",
       "                 ...             Outlet_Identifier_OUT049  \\\n",
       "count            ...                          5681.000000   \n",
       "mean             ...                             0.109136   \n",
       "std              ...                             0.311837   \n",
       "min              ...                             0.000000   \n",
       "25%              ...                             0.000000   \n",
       "50%              ...                             0.000000   \n",
       "75%              ...                             0.000000   \n",
       "max              ...                             1.000000   \n",
       "\n",
       "       Outlet_Location_Type_Tier 1  Outlet_Location_Type_Tier 2  \\\n",
       "count                  5681.000000                  5681.000000   \n",
       "mean                      0.280232                     0.326703   \n",
       "std                       0.449152                     0.469049   \n",
       "min                       0.000000                     0.000000   \n",
       "25%                       0.000000                     0.000000   \n",
       "50%                       0.000000                     0.000000   \n",
       "75%                       1.000000                     1.000000   \n",
       "max                       1.000000                     1.000000   \n",
       "\n",
       "       Outlet_Location_Type_Tier 3  Outlet_Type_Grocery Store  \\\n",
       "count                  5681.000000                5681.000000   \n",
       "mean                      0.393065                   0.127090   \n",
       "std                       0.488474                   0.333103   \n",
       "min                       0.000000                   0.000000   \n",
       "25%                       0.000000                   0.000000   \n",
       "50%                       0.000000                   0.000000   \n",
       "75%                       1.000000                   0.000000   \n",
       "max                       1.000000                   1.000000   \n",
       "\n",
       "       Outlet_Type_Supermarket Type1  Outlet_Type_Supermarket Type2  \\\n",
       "count                    5681.000000                    5681.000000   \n",
       "mean                        0.654286                       0.108784   \n",
       "std                         0.475642                       0.311395   \n",
       "min                         0.000000                       0.000000   \n",
       "25%                         0.000000                       0.000000   \n",
       "50%                         1.000000                       0.000000   \n",
       "75%                         1.000000                       0.000000   \n",
       "max                         1.000000                       1.000000   \n",
       "\n",
       "       Outlet_Type_Supermarket Type3  Item_Fat_Content_Low Fat  \\\n",
       "count                    5681.000000               5681.000000   \n",
       "mean                        0.109840                  0.645661   \n",
       "std                         0.312718                  0.478355   \n",
       "min                         0.000000                  0.000000   \n",
       "25%                         0.000000                  0.000000   \n",
       "50%                         0.000000                  1.000000   \n",
       "75%                         0.000000                  1.000000   \n",
       "max                         1.000000                  1.000000   \n",
       "\n",
       "       Item_Fat_Content_Regular  \n",
       "count               5681.000000  \n",
       "mean                   0.354339  \n",
       "std                    0.478355  \n",
       "min                    0.000000  \n",
       "25%                    0.000000  \n",
       "50%                    0.000000  \n",
       "75%                    1.000000  \n",
       "max                    1.000000  \n",
       "\n",
       "[8 rows x 40 columns]"
      ]
     },
     "execution_count": 214,
     "metadata": {},
     "output_type": "execute_result"
    }
   ],
   "source": [
    "df3.describe()"
   ]
  },
  {
   "cell_type": "code",
   "execution_count": 215,
   "metadata": {},
   "outputs": [],
   "source": [
    "for col in df3.columns:\n",
    "    df3[col] = df3[col].astype('float64')"
   ]
  },
  {
   "cell_type": "code",
   "execution_count": 216,
   "metadata": {},
   "outputs": [],
   "source": [
    "y_pred = my_model.predict(df3)"
   ]
  },
  {
   "cell_type": "code",
   "execution_count": 217,
   "metadata": {
    "collapsed": true
   },
   "outputs": [
    {
     "data": {
      "text/plain": [
       "array([1565.7053, 1427.0529,  605.4994, ..., 1862.7042, 3659.0652,\n",
       "       1277.3026], dtype=float32)"
      ]
     },
     "execution_count": 217,
     "metadata": {},
     "output_type": "execute_result"
    }
   ],
   "source": [
    "y_pred"
   ]
  },
  {
   "cell_type": "code",
   "execution_count": 219,
   "metadata": {},
   "outputs": [],
   "source": [
    "my_submission = pd.DataFrame({'Item_Identifier': data2.Item_Identifier, 'Outlet_Identifier': data2.Outlet_Identifier, 'Item_Outlet_Sales': y_pred})\n",
    "my_submission.to_csv('C:/Users/dus79/Desktop/Tech/DataScience/Projects/More projects/BigMartSales/sample_submission.csv', index=False)"
   ]
  },
  {
   "cell_type": "code",
   "execution_count": 218,
   "metadata": {
    "collapsed": true
   },
   "outputs": [
    {
     "data": {
      "text/plain": [
       "5681"
      ]
     },
     "execution_count": 218,
     "metadata": {},
     "output_type": "execute_result"
    }
   ],
   "source": [
    "y_pred.size"
   ]
  }
 ],
 "metadata": {
  "kernelspec": {
   "display_name": "Python 3",
   "language": "python",
   "name": "python3"
  },
  "language_info": {
   "codemirror_mode": {
    "name": "ipython",
    "version": 3
   },
   "file_extension": ".py",
   "mimetype": "text/x-python",
   "name": "python",
   "nbconvert_exporter": "python",
   "pygments_lexer": "ipython3",
   "version": "3.6.4"
  }
 },
 "nbformat": 4,
 "nbformat_minor": 2
}
