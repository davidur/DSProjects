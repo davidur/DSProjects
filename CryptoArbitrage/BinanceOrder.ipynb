{
 "cells": [
  {
   "cell_type": "code",
   "execution_count": 19,
   "metadata": {},
   "outputs": [],
   "source": [
    "import requests, json\n",
    "import numpy as np\n",
    "import pandas as pd\n",
    "import config"
   ]
  },
  {
   "cell_type": "code",
   "execution_count": 20,
   "metadata": {},
   "outputs": [
    {
     "name": "stdout",
     "output_type": "stream",
     "text": [
      "     success   timestamp base        date       rates\n",
      "AED     True  1622062624  EUR  2021-05-26    4.478955\n",
      "AFN     True  1622062624  EUR  2021-05-26   95.601205\n",
      "ALL     True  1622062624  EUR  2021-05-26  123.003009\n",
      "AMD     True  1622062624  EUR  2021-05-26  634.896815\n",
      "ANG     True  1622062624  EUR  2021-05-26    2.189986\n"
     ]
    }
   ],
   "source": [
    "#Get fiat current currency exchange rates from Fixer API\n",
    "response = requests.get(url=\"http://data.fixer.io/api/latest\", params={\"access_key\": config.fixer_access_key})\n",
    "symbols = response.json()\n",
    "df_forex = pd.DataFrame(symbols)\n",
    "print(df_forex.head())"
   ]
  },
  {
   "cell_type": "code",
   "execution_count": 21,
   "metadata": {},
   "outputs": [
    {
     "name": "stdout",
     "output_type": "stream",
     "text": [
      "              bidPrice       bidQty         askPrice        askQty      spread\n",
      "symbol                                                                        \n",
      "DOTNGN      0.00000000   0.00000000   34592.00000000    0.03864000  200.000000\n",
      "LTCNGN  76565.00000000   0.14778000  255382.00000000    0.00200000  107.738284\n",
      "TRXNGN     15.20000000  46.50000000      50.00000000  129.00000000  106.748466\n",
      "BNBNGN  21700.00000000   0.02500000   48565.00000000    0.05300000   76.467658\n",
      "XRPNGN    165.00000000   5.15000000     350.00000000    3.20000000   71.844660\n"
     ]
    }
   ],
   "source": [
    "#Get crypto currency exchange rates from binance API\n",
    "base_url = \"https://api.binance.com\"\n",
    "endpoint = \"/api/v3/ticker/bookTicker\"\n",
    "url = base_url + endpoint\n",
    "response = requests.get(url)\n",
    "df_response = pd.DataFrame(response.json())\n",
    "\n",
    "#Add \"spread\" column corresponding to spread percentage\n",
    "df_response['spread'] = ((df_response['askPrice'].astype(float) - df_response['bidPrice'].astype(float))/((df_response['askPrice'].astype(float) + df_response['bidPrice'].astype(float))/2))*100\n",
    "df_response = df_response.sort_values(by='spread', ascending=False)\n",
    "\n",
    "#Set symbol column as index\n",
    "df_crypto = df_response.set_index('symbol')\n",
    "\n",
    "print(df_crypto.head())"
   ]
  },
  {
   "cell_type": "code",
   "execution_count": 22,
   "metadata": {},
   "outputs": [],
   "source": [
    "BTC_SYMBOLS = ['AUD', 'BRL', 'GBP', 'RUB', 'TRY', 'IDR', 'UAH', 'NGN', 'EUR']\n",
    "TO_BTC = {'AUD': 'BTCAUD', 'BRL': 'BTCBRL', 'GBP': 'BTCGBP', 'RUB': 'BTCRUB', 'TRY': 'BTCTRY', 'IDR': 'BTCIDRT', 'UAH': 'BTCUAH', 'NGN': 'BTCNGN', 'EUR': 'BTCEUR'}\n",
    "DOGE_SYMBOLS = ['AUD', 'BRL', 'GBP', 'RUB', 'TRY', 'EUR']\n",
    "TO_DOGE = {'AUD': 'DOGEAUD', 'BRL': 'DOGEBRL', 'GBP': 'DOGEGBP', 'RUB': 'DOGERUB', 'TRY': 'DOGETRY', 'EUR': 'DOGEEUR'}\n",
    "ETH_SYMBOLS = ['AUD', 'BRL', 'GBP', 'RUB', 'TRY', 'NGN', 'EUR']\n",
    "TO_ETH = {'AUD': 'ETHAUD', 'BRL': 'ETHBRL', 'GBP': 'ETHGBP', 'RUB': 'ETHRUB', 'TRY': 'ETHTRY', 'UAH': 'ETHUAH', 'NGN': 'ETHNGN', 'EUR': 'ETHEUR'}\n",
    "LTC_SYMBOLS = ['BRL', 'GBP', 'RUB', 'EUR']\n",
    "TO_LTC = {'AUD': 'LTCAUD', 'BRL': 'LTCBRL', 'GBP': 'LTCGBP', 'RUB': 'LTCRUB', 'TRY': 'LTCTRY', 'EUR': 'LTCEUR'}\n",
    "XRP_SYMBOLS = ['AUD', 'BRL', 'GBP', 'RUB', 'TRY', 'EUR']\n",
    "TO_XRP = {'AUD': 'XRPAUD', 'BRL': 'XRPBRL', 'GBP': 'XRPGBP', 'RUB': 'XRPRUB', 'TRY': 'XRPTRY', 'EUR': 'XRPEUR'}\n",
    "\n",
    "COIN_SYMBOLS = {'BTC': BTC_SYMBOLS, 'ETH': ETH_SYMBOLS, 'DOGE': DOGE_SYMBOLS, 'LTC': LTC_SYMBOLS, 'XRP': XRP_SYMBOLS}\n",
    "TO_COIN_MAP = {'BTC': TO_BTC, 'ETH': TO_ETH, 'DOGE': TO_DOGE, 'LTC': TO_LTC, 'XRP': TO_XRP}\n",
    "\n",
    "ROUND_TRIP_DF = pd.DataFrame(columns=['SYMBOL', 'COIN', 'DIRECTION', 'ARB', 'SYMBOL_COIN_SPREAD', 'EURO_COIN_SPREAD'])\n",
    "\n",
    "for coin in ['BTC', 'ETH', 'DOGE', 'LTC', 'XRP']:\n",
    "    TO_COIN = TO_COIN_MAP[coin]\n",
    "    for s in COIN_SYMBOLS[coin]:\n",
    "        EUR_SYMBOL = float(df_forex.loc[s]['rates'])\n",
    "        SYMBOL_COIN_SPREAD = df_crypto.loc[TO_COIN[s]]['spread']\n",
    "        EURO_COIN_SPREAD = df_crypto.loc[TO_COIN['EUR']]['spread']\n",
    "        #From Euro to Currency to Coin to Euro\n",
    "        BTC_EUR_BID = float(df_crypto.loc[coin + 'EUR']['bidPrice'])\n",
    "        SYMBOL_BTC_ASK = float(df_crypto.loc[TO_COIN[s]]['askPrice'])\n",
    "        round_trip1 = BTC_EUR_BID*EUR_SYMBOL/SYMBOL_BTC_ASK\n",
    "        ROUND_TRIP_DF = ROUND_TRIP_DF.append({'SYMBOL': s, 'COIN': coin, 'DIRECTION': 'EURO_CURRENCY', 'ARB': round_trip1, 'SYMBOL_COIN_SPREAD': SYMBOL_COIN_SPREAD, 'EURO_COIN_SPREAD': EURO_COIN_SPREAD}, ignore_index=True)\n",
    "        #From Euro to Coin to Currency to Euro\n",
    "        BTC_EUR_ASK = float(df_crypto.loc[coin + 'EUR']['askPrice'])\n",
    "        SYMBOL_BTC_BID = float(df_crypto.loc[TO_COIN[s]]['bidPrice'])\n",
    "        round_trip2 = (SYMBOL_BTC_BID/EUR_SYMBOL)/BTC_EUR_ASK\n",
    "        ROUND_TRIP_DF = ROUND_TRIP_DF.append({'SYMBOL': s, 'COIN': coin, 'DIRECTION': 'EURO_COIN', 'ARB': round_trip2, 'SYMBOL_COIN_SPREAD': SYMBOL_COIN_SPREAD, 'EURO_COIN_SPREAD': EURO_COIN_SPREAD}, ignore_index=True)"
   ]
  },
  {
   "cell_type": "code",
   "execution_count": 23,
   "metadata": {},
   "outputs": [
    {
     "name": "stdout",
     "output_type": "stream",
     "text": [
      "  SYMBOL COIN      DIRECTION       ARB  SYMBOL_COIN_SPREAD  EURO_COIN_SPREAD\n",
      "0    AUD  BTC  EURO_CURRENCY  0.996598            0.190469          0.022052\n",
      "1    AUD  BTC      EURO_COIN  1.001283            0.190469          0.022052\n",
      "2    BRL  BTC  EURO_CURRENCY  0.992604            0.053329          0.022052\n",
      "3    BRL  BTC      EURO_COIN  1.006692            0.053329          0.022052\n",
      "4    GBP  BTC  EURO_CURRENCY  0.999778            0.097215          0.022052\n"
     ]
    }
   ],
   "source": [
    "print(ROUND_TRIP_DF.head())"
   ]
  },
  {
   "cell_type": "code",
   "execution_count": null,
   "metadata": {},
   "outputs": [],
   "source": []
  }
 ],
 "metadata": {
  "kernelspec": {
   "display_name": "Python 3",
   "language": "python",
   "name": "python3"
  },
  "language_info": {
   "codemirror_mode": {
    "name": "ipython",
    "version": 3
   },
   "file_extension": ".py",
   "mimetype": "text/x-python",
   "name": "python",
   "nbconvert_exporter": "python",
   "pygments_lexer": "ipython3",
   "version": "3.8.5"
  }
 },
 "nbformat": 4,
 "nbformat_minor": 4
}
